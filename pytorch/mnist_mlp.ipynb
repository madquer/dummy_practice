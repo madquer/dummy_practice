{
 "metadata": {
  "language_info": {
   "codemirror_mode": {
    "name": "ipython",
    "version": 3
   },
   "file_extension": ".py",
   "mimetype": "text/x-python",
   "name": "python",
   "nbconvert_exporter": "python",
   "pygments_lexer": "ipython3",
   "version": "3.7.9-final"
  },
  "orig_nbformat": 2,
  "kernelspec": {
   "name": "python3",
   "display_name": "Python 3.7.9 64-bit ('data': conda)",
   "metadata": {
    "interpreter": {
     "hash": "ac2efa6c76a6d8a298f4232fad85de25b4072d409b25999481de2b30f4fbd149"
    }
   }
  }
 },
 "nbformat": 4,
 "nbformat_minor": 2,
 "cells": [
  {
   "source": [
    "# mnist with mlp : practice baseline for pytorch"
   ],
   "cell_type": "markdown",
   "metadata": {}
  },
  {
   "source": [
    "## 1. model import"
   ],
   "cell_type": "markdown",
   "metadata": {}
  },
  {
   "cell_type": "code",
   "execution_count": 1,
   "metadata": {},
   "outputs": [],
   "source": [
    "import numpy as np\n",
    "import matplotlib.pyplot as plt\n",
    "import torch\n",
    "import torch.nn as nn\n",
    "import torch.nn.functional as F\n",
    "from torchvision import transforms, datasets\n",
    "from torch.utils.data import dataloader, dataset"
   ]
  },
  {
   "source": [
    "## 2. 딥러닝 모델을 설계할 떄 활용하는 장비 확인"
   ],
   "cell_type": "markdown",
   "metadata": {}
  },
  {
   "cell_type": "code",
   "execution_count": 3,
   "metadata": {},
   "outputs": [
    {
     "output_type": "stream",
     "name": "stdout",
     "text": [
      "Using Pytorch version : 1.7.1  Device : cpu\n"
     ]
    }
   ],
   "source": [
    "device = torch.devcie('cuda') if torch.cuda.is_available() else torch.device('cpu')\n",
    "print(\"Using Pytorch version :\", torch.__version__, ' Device :', device)"
   ]
  },
  {
   "cell_type": "code",
   "execution_count": 4,
   "metadata": {},
   "outputs": [],
   "source": [
    "batch_size = 8\n",
    "epochs = 1"
   ]
  },
  {
   "source": [
    "## 3. MNIST 데이터 다운로드, train set, test set 분리하기"
   ],
   "cell_type": "markdown",
   "metadata": {}
  },
  {
   "cell_type": "code",
   "execution_count": 5,
   "metadata": {},
   "outputs": [
    {
     "output_type": "stream",
     "name": "stderr",
     "text": [
      "0it [00:00, ?it/s]Downloading http://yann.lecun.com/exdb/mnist/train-images-idx3-ubyte.gz to python/pytorch_tutorial/pytorch_book/mnist/MNIST/raw/train-images-idx3-ubyte.gz\n",
      " 97%|█████████▋| 9584640/9912422 [00:03<00:00, 4324192.85it/s]Extracting python/pytorch_tutorial/pytorch_book/mnist/MNIST/raw/train-images-idx3-ubyte.gz to python/pytorch_tutorial/pytorch_book/mnist/MNIST/raw\n",
      "\n",
      "0it [00:00, ?it/s]\u001b[ADownloading http://yann.lecun.com/exdb/mnist/train-labels-idx1-ubyte.gz to python/pytorch_tutorial/pytorch_book/mnist/MNIST/raw/train-labels-idx1-ubyte.gz\n",
      "\n",
      "  0%|          | 0/28881 [00:00<?, ?it/s]\u001b[A\n",
      " 57%|█████▋    | 16384/28881 [00:00<00:00, 76133.17it/s]\u001b[A\n",
      "\n",
      "0it [00:00, ?it/s]\u001b[A\u001b[AExtracting python/pytorch_tutorial/pytorch_book/mnist/MNIST/raw/train-labels-idx1-ubyte.gz to python/pytorch_tutorial/pytorch_book/mnist/MNIST/raw\n",
      "Downloading http://yann.lecun.com/exdb/mnist/t10k-images-idx3-ubyte.gz to python/pytorch_tutorial/pytorch_book/mnist/MNIST/raw/t10k-images-idx3-ubyte.gz\n",
      "\n",
      "\n",
      "  0%|          | 0/1648877 [00:00<?, ?it/s]\u001b[A\u001b[A\n",
      "\n",
      "  1%|          | 16384/1648877 [00:00<00:23, 70210.32it/s]\u001b[A\u001b[A\n",
      "\n",
      "  3%|▎         | 49152/1648877 [00:00<00:18, 84801.02it/s]\u001b[A\u001b[A\n",
      "\n",
      "  6%|▌         | 98304/1648877 [00:01<00:14, 105616.38it/s]\u001b[A\u001b[A\n",
      "\n",
      " 13%|█▎        | 212992/1648877 [00:01<00:10, 139686.79it/s]\u001b[A\u001b[A\n",
      "\n",
      " 26%|██▋       | 434176/1648877 [00:01<00:06, 189254.30it/s]\u001b[A\u001b[A\n",
      "\n",
      " 53%|█████▎    | 876544/1648877 [00:01<00:02, 260747.01it/s]\u001b[A\u001b[A\n",
      "\n",
      " 85%|████████▍ | 1400832/1648877 [00:01<00:00, 364690.54it/s]\u001b[A\u001b[A\n",
      "\n",
      "\n",
      "0it [00:00, ?it/s]\u001b[A\u001b[A\u001b[AExtracting python/pytorch_tutorial/pytorch_book/mnist/MNIST/raw/t10k-images-idx3-ubyte.gz to python/pytorch_tutorial/pytorch_book/mnist/MNIST/raw\n",
      "Downloading http://yann.lecun.com/exdb/mnist/t10k-labels-idx1-ubyte.gz to python/pytorch_tutorial/pytorch_book/mnist/MNIST/raw/t10k-labels-idx1-ubyte.gz\n",
      "\n",
      "\n",
      "\n",
      "  0%|          | 0/4542 [00:00<?, ?it/s]\u001b[A\u001b[A\u001b[AExtracting python/pytorch_tutorial/pytorch_book/mnist/MNIST/raw/t10k-labels-idx1-ubyte.gz to python/pytorch_tutorial/pytorch_book/mnist/MNIST/raw\n",
      "Processing...\n",
      "Done!\n"
     ]
    }
   ],
   "source": [
    "train_dataset = datasets.MNIST(root = 'python/pytorch_tutorial/pytorch_book/mnist',\n",
    "                               train = True,\n",
    "                               download = True,\n",
    "                               transform = transforms.ToTensor())\n",
    "test_dataset = datasets.MNIST(root = 'python/pytorch_tutorial/pytorch_book/mnist',\n",
    "                               train = False,\n",
    "                               transform = transforms.ToTensor())\n",
    "\n",
    "train_loader = torch.utils.data.DataLoader(dataset = train_dataset,\n",
    "                                           batch_size = batch_size,\n",
    "                                           shuffle = True)\n",
    "test_loader = torch.utils.data.DataLoader(dataset = test_dataset,\n",
    "                                          batch_size = batch_size,\n",
    "                                          shuffle = False)"
   ]
  },
  {
   "source": [
    "## 4. 데이터 확인하기 (1)"
   ],
   "cell_type": "markdown",
   "metadata": {}
  },
  {
   "cell_type": "code",
   "execution_count": 6,
   "metadata": {},
   "outputs": [
    {
     "output_type": "stream",
     "name": "stdout",
     "text": [
      "X_train: torch.Size([8, 1, 28, 28]) type: torch.FloatTensor\ny_train: torch.Size([8]) type: torch.LongTensor\n"
     ]
    }
   ],
   "source": [
    "for (X_train, y_train) in train_loader:\n",
    "    print('X_train:', X_train.size(), 'type:', X_train.type())\n",
    "    print('y_train:', y_train.size(), 'type:', y_train.type())\n",
    "    break"
   ]
  },
  {
   "source": [
    "## 5. 데이터 확인하기 (2)"
   ],
   "cell_type": "markdown",
   "metadata": {}
  },
  {
   "cell_type": "code",
   "execution_count": 8,
   "metadata": {},
   "outputs": [
    {
     "output_type": "display_data",
     "data": {
      "text/plain": "<Figure size 720x720 with 8 Axes>",
      "image/svg+xml": "<?xml version=\"1.0\" encoding=\"utf-8\" standalone=\"no\"?>\n<!DOCTYPE svg PUBLIC \"-//W3C//DTD SVG 1.1//EN\"\n  \"http://www.w3.org/Graphics/SVG/1.1/DTD/svg11.dtd\">\n<!-- Created with matplotlib (https://matplotlib.org/) -->\n<svg height=\"76.806261pt\" version=\"1.1\" viewBox=\"0 0 458.908475 76.806261\" width=\"458.908475pt\" xmlns=\"http://www.w3.org/2000/svg\" xmlns:xlink=\"http://www.w3.org/1999/xlink\">\n <metadata>\n  <rdf:RDF xmlns:cc=\"http://creativecommons.org/ns#\" xmlns:dc=\"http://purl.org/dc/elements/1.1/\" xmlns:rdf=\"http://www.w3.org/1999/02/22-rdf-syntax-ns#\">\n   <cc:Work>\n    <dc:type rdf:resource=\"http://purl.org/dc/dcmitype/StillImage\"/>\n    <dc:date>2021-02-24T17:20:38.927492</dc:date>\n    <dc:format>image/svg+xml</dc:format>\n    <dc:creator>\n     <cc:Agent>\n      <dc:title>Matplotlib v3.3.2, https://matplotlib.org/</dc:title>\n     </cc:Agent>\n    </dc:creator>\n   </cc:Work>\n  </rdf:RDF>\n </metadata>\n <defs>\n  <style type=\"text/css\">*{stroke-linecap:butt;stroke-linejoin:round;}</style>\n </defs>\n <g id=\"figure_1\">\n  <g id=\"patch_1\">\n   <path d=\"M 0 76.806261 \nL 458.908475 76.806261 \nL 458.908475 0 \nL 0 0 \nz\n\" style=\"fill:none;\"/>\n  </g>\n  <g id=\"axes_1\">\n   <g clip-path=\"url(#p9b91892058)\">\n    <image height=\"48\" id=\"imaged24ee091ca\" transform=\"scale(1 -1)translate(0 -48)\" width=\"48\" x=\"7.2\" xlink:href=\"data:image/png;base64,\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\" y=\"-21.606261\"/>\n   </g>\n   <g id=\"text_1\">\n    <!-- Class: 5 -->\n    <g transform=\"translate(7.313755 16.318125)scale(0.12 -0.12)\">\n     <defs>\n      <path d=\"M 64.40625 67.28125 \nL 64.40625 56.890625 \nQ 59.421875 61.53125 53.78125 63.8125 \nQ 48.140625 66.109375 41.796875 66.109375 \nQ 29.296875 66.109375 22.65625 58.46875 \nQ 16.015625 50.828125 16.015625 36.375 \nQ 16.015625 21.96875 22.65625 14.328125 \nQ 29.296875 6.6875 41.796875 6.6875 \nQ 48.140625 6.6875 53.78125 8.984375 \nQ 59.421875 11.28125 64.40625 15.921875 \nL 64.40625 5.609375 \nQ 59.234375 2.09375 53.4375 0.328125 \nQ 47.65625 -1.421875 41.21875 -1.421875 \nQ 24.65625 -1.421875 15.125 8.703125 \nQ 5.609375 18.84375 5.609375 36.375 \nQ 5.609375 53.953125 15.125 64.078125 \nQ 24.65625 74.21875 41.21875 74.21875 \nQ 47.75 74.21875 53.53125 72.484375 \nQ 59.328125 70.75 64.40625 67.28125 \nz\n\" id=\"DejaVuSans-67\"/>\n      <path d=\"M 9.421875 75.984375 \nL 18.40625 75.984375 \nL 18.40625 0 \nL 9.421875 0 \nz\n\" id=\"DejaVuSans-108\"/>\n      <path d=\"M 34.28125 27.484375 \nQ 23.390625 27.484375 19.1875 25 \nQ 14.984375 22.515625 14.984375 16.5 \nQ 14.984375 11.71875 18.140625 8.90625 \nQ 21.296875 6.109375 26.703125 6.109375 \nQ 34.1875 6.109375 38.703125 11.40625 \nQ 43.21875 16.703125 43.21875 25.484375 \nL 43.21875 27.484375 \nz\nM 52.203125 31.203125 \nL 52.203125 0 \nL 43.21875 0 \nL 43.21875 8.296875 \nQ 40.140625 3.328125 35.546875 0.953125 \nQ 30.953125 -1.421875 24.3125 -1.421875 \nQ 15.921875 -1.421875 10.953125 3.296875 \nQ 6 8.015625 6 15.921875 \nQ 6 25.140625 12.171875 29.828125 \nQ 18.359375 34.515625 30.609375 34.515625 \nL 43.21875 34.515625 \nL 43.21875 35.40625 \nQ 43.21875 41.609375 39.140625 45 \nQ 35.0625 48.390625 27.6875 48.390625 \nQ 23 48.390625 18.546875 47.265625 \nQ 14.109375 46.140625 10.015625 43.890625 \nL 10.015625 52.203125 \nQ 14.9375 54.109375 19.578125 55.046875 \nQ 24.21875 56 28.609375 56 \nQ 40.484375 56 46.34375 49.84375 \nQ 52.203125 43.703125 52.203125 31.203125 \nz\n\" id=\"DejaVuSans-97\"/>\n      <path d=\"M 44.28125 53.078125 \nL 44.28125 44.578125 \nQ 40.484375 46.53125 36.375 47.5 \nQ 32.28125 48.484375 27.875 48.484375 \nQ 21.1875 48.484375 17.84375 46.4375 \nQ 14.5 44.390625 14.5 40.28125 \nQ 14.5 37.15625 16.890625 35.375 \nQ 19.28125 33.59375 26.515625 31.984375 \nL 29.59375 31.296875 \nQ 39.15625 29.25 43.1875 25.515625 \nQ 47.21875 21.78125 47.21875 15.09375 \nQ 47.21875 7.46875 41.1875 3.015625 \nQ 35.15625 -1.421875 24.609375 -1.421875 \nQ 20.21875 -1.421875 15.453125 -0.5625 \nQ 10.6875 0.296875 5.421875 2 \nL 5.421875 11.28125 \nQ 10.40625 8.6875 15.234375 7.390625 \nQ 20.0625 6.109375 24.8125 6.109375 \nQ 31.15625 6.109375 34.5625 8.28125 \nQ 37.984375 10.453125 37.984375 14.40625 \nQ 37.984375 18.0625 35.515625 20.015625 \nQ 33.0625 21.96875 24.703125 23.78125 \nL 21.578125 24.515625 \nQ 13.234375 26.265625 9.515625 29.90625 \nQ 5.8125 33.546875 5.8125 39.890625 \nQ 5.8125 47.609375 11.28125 51.796875 \nQ 16.75 56 26.8125 56 \nQ 31.78125 56 36.171875 55.265625 \nQ 40.578125 54.546875 44.28125 53.078125 \nz\n\" id=\"DejaVuSans-115\"/>\n      <path d=\"M 11.71875 12.40625 \nL 22.015625 12.40625 \nL 22.015625 0 \nL 11.71875 0 \nz\nM 11.71875 51.703125 \nL 22.015625 51.703125 \nL 22.015625 39.3125 \nL 11.71875 39.3125 \nz\n\" id=\"DejaVuSans-58\"/>\n      <path id=\"DejaVuSans-32\"/>\n      <path d=\"M 10.796875 72.90625 \nL 49.515625 72.90625 \nL 49.515625 64.59375 \nL 19.828125 64.59375 \nL 19.828125 46.734375 \nQ 21.96875 47.46875 24.109375 47.828125 \nQ 26.265625 48.1875 28.421875 48.1875 \nQ 40.625 48.1875 47.75 41.5 \nQ 54.890625 34.8125 54.890625 23.390625 \nQ 54.890625 11.625 47.5625 5.09375 \nQ 40.234375 -1.421875 26.90625 -1.421875 \nQ 22.3125 -1.421875 17.546875 -0.640625 \nQ 12.796875 0.140625 7.71875 1.703125 \nL 7.71875 11.625 \nQ 12.109375 9.234375 16.796875 8.0625 \nQ 21.484375 6.890625 26.703125 6.890625 \nQ 35.15625 6.890625 40.078125 11.328125 \nQ 45.015625 15.765625 45.015625 23.390625 \nQ 45.015625 31 40.078125 35.4375 \nQ 35.15625 39.890625 26.703125 39.890625 \nQ 22.75 39.890625 18.8125 39.015625 \nQ 14.890625 38.140625 10.796875 36.28125 \nz\n\" id=\"DejaVuSans-53\"/>\n     </defs>\n     <use xlink:href=\"#DejaVuSans-67\"/>\n     <use x=\"69.824219\" xlink:href=\"#DejaVuSans-108\"/>\n     <use x=\"97.607422\" xlink:href=\"#DejaVuSans-97\"/>\n     <use x=\"158.886719\" xlink:href=\"#DejaVuSans-115\"/>\n     <use x=\"210.986328\" xlink:href=\"#DejaVuSans-115\"/>\n     <use x=\"263.085938\" xlink:href=\"#DejaVuSans-58\"/>\n     <use x=\"296.777344\" xlink:href=\"#DejaVuSans-32\"/>\n     <use x=\"328.564453\" xlink:href=\"#DejaVuSans-53\"/>\n    </g>\n   </g>\n  </g>\n  <g id=\"axes_2\">\n   <g clip-path=\"url(#p2c65a730b3)\">\n    <image height=\"48\" id=\"image2b121a8a58\" transform=\"scale(1 -1)translate(0 -48)\" width=\"48\" x=\"63.945763\" xlink:href=\"data:image/png;base64,\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\" y=\"-21.606261\"/>\n   </g>\n   <g id=\"text_2\">\n    <!-- Class: 8 -->\n    <g transform=\"translate(64.059518 16.318125)scale(0.12 -0.12)\">\n     <defs>\n      <path d=\"M 31.78125 34.625 \nQ 24.75 34.625 20.71875 30.859375 \nQ 16.703125 27.09375 16.703125 20.515625 \nQ 16.703125 13.921875 20.71875 10.15625 \nQ 24.75 6.390625 31.78125 6.390625 \nQ 38.8125 6.390625 42.859375 10.171875 \nQ 46.921875 13.96875 46.921875 20.515625 \nQ 46.921875 27.09375 42.890625 30.859375 \nQ 38.875 34.625 31.78125 34.625 \nz\nM 21.921875 38.8125 \nQ 15.578125 40.375 12.03125 44.71875 \nQ 8.5 49.078125 8.5 55.328125 \nQ 8.5 64.0625 14.71875 69.140625 \nQ 20.953125 74.21875 31.78125 74.21875 \nQ 42.671875 74.21875 48.875 69.140625 \nQ 55.078125 64.0625 55.078125 55.328125 \nQ 55.078125 49.078125 51.53125 44.71875 \nQ 48 40.375 41.703125 38.8125 \nQ 48.828125 37.15625 52.796875 32.3125 \nQ 56.78125 27.484375 56.78125 20.515625 \nQ 56.78125 9.90625 50.3125 4.234375 \nQ 43.84375 -1.421875 31.78125 -1.421875 \nQ 19.734375 -1.421875 13.25 4.234375 \nQ 6.78125 9.90625 6.78125 20.515625 \nQ 6.78125 27.484375 10.78125 32.3125 \nQ 14.796875 37.15625 21.921875 38.8125 \nz\nM 18.3125 54.390625 \nQ 18.3125 48.734375 21.84375 45.5625 \nQ 25.390625 42.390625 31.78125 42.390625 \nQ 38.140625 42.390625 41.71875 45.5625 \nQ 45.3125 48.734375 45.3125 54.390625 \nQ 45.3125 60.0625 41.71875 63.234375 \nQ 38.140625 66.40625 31.78125 66.40625 \nQ 25.390625 66.40625 21.84375 63.234375 \nQ 18.3125 60.0625 18.3125 54.390625 \nz\n\" id=\"DejaVuSans-56\"/>\n     </defs>\n     <use xlink:href=\"#DejaVuSans-67\"/>\n     <use x=\"69.824219\" xlink:href=\"#DejaVuSans-108\"/>\n     <use x=\"97.607422\" xlink:href=\"#DejaVuSans-97\"/>\n     <use x=\"158.886719\" xlink:href=\"#DejaVuSans-115\"/>\n     <use x=\"210.986328\" xlink:href=\"#DejaVuSans-115\"/>\n     <use x=\"263.085938\" xlink:href=\"#DejaVuSans-58\"/>\n     <use x=\"296.777344\" xlink:href=\"#DejaVuSans-32\"/>\n     <use x=\"328.564453\" xlink:href=\"#DejaVuSans-56\"/>\n    </g>\n   </g>\n  </g>\n  <g id=\"axes_3\">\n   <g clip-path=\"url(#pef70080918)\">\n    <image height=\"48\" id=\"image0387656b0d\" transform=\"scale(1 -1)translate(0 -48)\" width=\"48\" x=\"120.691525\" xlink:href=\"data:image/png;base64,\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\" y=\"-21.606261\"/>\n   </g>\n   <g id=\"text_3\">\n    <!-- Class: 4 -->\n    <g transform=\"translate(120.805281 16.318125)scale(0.12 -0.12)\">\n     <defs>\n      <path d=\"M 37.796875 64.3125 \nL 12.890625 25.390625 \nL 37.796875 25.390625 \nz\nM 35.203125 72.90625 \nL 47.609375 72.90625 \nL 47.609375 25.390625 \nL 58.015625 25.390625 \nL 58.015625 17.1875 \nL 47.609375 17.1875 \nL 47.609375 0 \nL 37.796875 0 \nL 37.796875 17.1875 \nL 4.890625 17.1875 \nL 4.890625 26.703125 \nz\n\" id=\"DejaVuSans-52\"/>\n     </defs>\n     <use xlink:href=\"#DejaVuSans-67\"/>\n     <use x=\"69.824219\" xlink:href=\"#DejaVuSans-108\"/>\n     <use x=\"97.607422\" xlink:href=\"#DejaVuSans-97\"/>\n     <use x=\"158.886719\" xlink:href=\"#DejaVuSans-115\"/>\n     <use x=\"210.986328\" xlink:href=\"#DejaVuSans-115\"/>\n     <use x=\"263.085938\" xlink:href=\"#DejaVuSans-58\"/>\n     <use x=\"296.777344\" xlink:href=\"#DejaVuSans-32\"/>\n     <use x=\"328.564453\" xlink:href=\"#DejaVuSans-52\"/>\n    </g>\n   </g>\n  </g>\n  <g id=\"axes_4\">\n   <g clip-path=\"url(#pea30908e0a)\">\n    <image height=\"48\" id=\"image0a2811b155\" transform=\"scale(1 -1)translate(0 -48)\" width=\"48\" x=\"177.437288\" xlink:href=\"data:image/png;base64,\niVBORw0KGgoAAAANSUhEUgAAADAAAAAwCAYAAABXAvmHAAAFR0lEQVR4nO2azWsTXRSHn8kkM5OPSlKTGGPSRkujlApqQFBQFKpbVy4Ely4E/w39XwTduhSqi4ooQhGLSqUmxqhp0smX08l83XdREuyLStM0hkJ/mxAyuec8Ofece84lkhBCsI/lG7cDw+oAYNw6ABi3DgDGrQOAccs/yMONRoMHDx6wvr5Oq9UCQJIkEokEyWSSq1evMj09zYkTJ0bi7O80EEC322VxcZFisUitVgNAlmXS6TRTU1PE43GEEBw+fBhN0/D7/ciyPBLHexoI4HfyPI/v379TrVZZWVlhfn6e8+fPc/36dWZmZpienh4pxI4B2u029Xod0zSxbRtZlgmHwyiKQrPZxLIsLMuiVCqhaRrhcJhKpYJlWcRiMRKJBJIkIUnSeAA+f/7M+/fv+xCBQIBMJkMymeTNmze0220AisUixWKRpaUlJicnuXv3LvPz8ywsLKAoyp5HY8cA5XKZT58+0e12EUIQCARIJpPMzs6ytraG53l0Oh0AhBB0u110XefJkye8fv2aly9fIssyPp/vt1HIZrMkEgkWFhbQNG3vAWq1GpVKBdu2EULg8/mIRqOkUikmJibodDp0Oh1644Vt2ziOw9LSEqqq8uLFi23O/x/i3LlzzM7OcuHCBQKBwI4jtWOAeDxOOp1GlmUcx+Hnz588e/aMV69eoes6tm33HRNCbHPQcRw2Njb6738XgefPn/P27VsikQhnzpzhxo0bewvgui6O4/SNu66Lrus0Go1tjv3qfO/V8zw8z+PX4a/3WW9bNZtNbNtmbW2NVCq1U7d2fhKXSiU+fvwIgN8/dPXtS9M0JicnURQF13XZ2NjoF4SdaMeenD59Gk3TaLfb1Go1fvz48deSqKpqfx+bptl3zDRNAA4dOsTZs2dJJBKkUil0XUcIQaFQ4OTJk3sPcOnSJQqFAoqiUCqVWF5e/uOzkiQRi8VQVRWAer3Ou3fv+Pr1ax8gGo1y8+ZNZmZmyOfz6LqO67pMTU0RDAb3HgC2ftUrV65gGAbXrl3767OKouDzbe3Qzc1N6vU6jx49YnFxkW/fvqGqKtlslnQ6TTKZJBaLIYQgGAwOdFYMBCDLMplMZpCvAFsJb5omKysrrK6uUqvVkCSJSCRCJBIhFAoNvGZPe5eNf5Esy4RCIS5fvkw0GuXLly/AVmR65Xe3+mfzQC8vMpkMqqrS7XYpFovbzofd6J8ONPF4nOPHj6OqKu12m6dPn/Lhw4eh1hzbRGaaJqurq1QqFTqdDq7r7mqdsQFYlkW5XKZarWIYxv4CEEJg2zbNZhPDMHAcB8/zdrXWWId613URQjDMBfk/KaP/lyRJyLKMqqoEAoE/zgg70dgi4PP5UFW1P6XtS4BIJIKmafsTwHEc6vU6rVYLy7J2ncQjywHXdXFdl1ar1W8lLMvCcRyEEHieh23bQyfyyADK5TLFYpH79+9z7Ngxbt++jeM4GIbB5uYmiqJw9OhR4vH4wB3orxoZgG3bGIZBqVTCMAyWl5f7txWmaRIKhSgUCuRyuW2t96Aa6RaybRtd11lfX+fhw4fA1t5vNBpks1nu3btHLpcjHA7v2s7IAPx+P4qioKoqpmn2W+jeKQzsyU3dyAACgQCqqqJpGo1Gg2q1OtSJ+yeNrIymUiny+TwXL15kbm5uVGZGB6AoChMTE8zNzZHL5bbdtvUuf0OhEIFAYDhDYoTyPE80m03x+PFjkUqlRDAYFJIkiVOnTolbt24JXdeFZVlD2RhpMydJEsFgkHw+z507d/qt85EjR8hkMv02YigbQhz82WOs2vcA/wG8Pe29+rIgtAAAAABJRU5ErkJggg==\" y=\"-21.606261\"/>\n   </g>\n   <g id=\"text_4\">\n    <!-- Class: 2 -->\n    <g transform=\"translate(177.551043 16.318125)scale(0.12 -0.12)\">\n     <defs>\n      <path d=\"M 19.1875 8.296875 \nL 53.609375 8.296875 \nL 53.609375 0 \nL 7.328125 0 \nL 7.328125 8.296875 \nQ 12.9375 14.109375 22.625 23.890625 \nQ 32.328125 33.6875 34.8125 36.53125 \nQ 39.546875 41.84375 41.421875 45.53125 \nQ 43.3125 49.21875 43.3125 52.78125 \nQ 43.3125 58.59375 39.234375 62.25 \nQ 35.15625 65.921875 28.609375 65.921875 \nQ 23.96875 65.921875 18.8125 64.3125 \nQ 13.671875 62.703125 7.8125 59.421875 \nL 7.8125 69.390625 \nQ 13.765625 71.78125 18.9375 73 \nQ 24.125 74.21875 28.421875 74.21875 \nQ 39.75 74.21875 46.484375 68.546875 \nQ 53.21875 62.890625 53.21875 53.421875 \nQ 53.21875 48.921875 51.53125 44.890625 \nQ 49.859375 40.875 45.40625 35.40625 \nQ 44.1875 33.984375 37.640625 27.21875 \nQ 31.109375 20.453125 19.1875 8.296875 \nz\n\" id=\"DejaVuSans-50\"/>\n     </defs>\n     <use xlink:href=\"#DejaVuSans-67\"/>\n     <use x=\"69.824219\" xlink:href=\"#DejaVuSans-108\"/>\n     <use x=\"97.607422\" xlink:href=\"#DejaVuSans-97\"/>\n     <use x=\"158.886719\" xlink:href=\"#DejaVuSans-115\"/>\n     <use x=\"210.986328\" xlink:href=\"#DejaVuSans-115\"/>\n     <use x=\"263.085938\" xlink:href=\"#DejaVuSans-58\"/>\n     <use x=\"296.777344\" xlink:href=\"#DejaVuSans-32\"/>\n     <use x=\"328.564453\" xlink:href=\"#DejaVuSans-50\"/>\n    </g>\n   </g>\n  </g>\n  <g id=\"axes_5\">\n   <g clip-path=\"url(#p38562b5817)\">\n    <image height=\"48\" id=\"imagef2e02f1df2\" transform=\"scale(1 -1)translate(0 -48)\" width=\"48\" x=\"234.183051\" xlink:href=\"data:image/png;base64,\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\" y=\"-21.606261\"/>\n   </g>\n   <g id=\"text_5\">\n    <!-- Class: 3 -->\n    <g transform=\"translate(234.296806 16.318125)scale(0.12 -0.12)\">\n     <defs>\n      <path d=\"M 40.578125 39.3125 \nQ 47.65625 37.796875 51.625 33 \nQ 55.609375 28.21875 55.609375 21.1875 \nQ 55.609375 10.40625 48.1875 4.484375 \nQ 40.765625 -1.421875 27.09375 -1.421875 \nQ 22.515625 -1.421875 17.65625 -0.515625 \nQ 12.796875 0.390625 7.625 2.203125 \nL 7.625 11.71875 \nQ 11.71875 9.328125 16.59375 8.109375 \nQ 21.484375 6.890625 26.8125 6.890625 \nQ 36.078125 6.890625 40.9375 10.546875 \nQ 45.796875 14.203125 45.796875 21.1875 \nQ 45.796875 27.640625 41.28125 31.265625 \nQ 36.765625 34.90625 28.71875 34.90625 \nL 20.21875 34.90625 \nL 20.21875 43.015625 \nL 29.109375 43.015625 \nQ 36.375 43.015625 40.234375 45.921875 \nQ 44.09375 48.828125 44.09375 54.296875 \nQ 44.09375 59.90625 40.109375 62.90625 \nQ 36.140625 65.921875 28.71875 65.921875 \nQ 24.65625 65.921875 20.015625 65.03125 \nQ 15.375 64.15625 9.8125 62.3125 \nL 9.8125 71.09375 \nQ 15.4375 72.65625 20.34375 73.4375 \nQ 25.25 74.21875 29.59375 74.21875 \nQ 40.828125 74.21875 47.359375 69.109375 \nQ 53.90625 64.015625 53.90625 55.328125 \nQ 53.90625 49.265625 50.4375 45.09375 \nQ 46.96875 40.921875 40.578125 39.3125 \nz\n\" id=\"DejaVuSans-51\"/>\n     </defs>\n     <use xlink:href=\"#DejaVuSans-67\"/>\n     <use x=\"69.824219\" xlink:href=\"#DejaVuSans-108\"/>\n     <use x=\"97.607422\" xlink:href=\"#DejaVuSans-97\"/>\n     <use x=\"158.886719\" xlink:href=\"#DejaVuSans-115\"/>\n     <use x=\"210.986328\" xlink:href=\"#DejaVuSans-115\"/>\n     <use x=\"263.085938\" xlink:href=\"#DejaVuSans-58\"/>\n     <use x=\"296.777344\" xlink:href=\"#DejaVuSans-32\"/>\n     <use x=\"328.564453\" xlink:href=\"#DejaVuSans-51\"/>\n    </g>\n   </g>\n  </g>\n  <g id=\"axes_6\">\n   <g clip-path=\"url(#p867f525291)\">\n    <image height=\"48\" id=\"image54afaf7f86\" transform=\"scale(1 -1)translate(0 -48)\" width=\"48\" x=\"290.928814\" xlink:href=\"data:image/png;base64,\niVBORw0KGgoAAAANSUhEUgAAADAAAAAwCAYAAABXAvmHAAAE40lEQVR4nO2ZS2/TShTHf2PHjuPQ2KnzQBEtERVqaQsKQoDUDezYsqrE9+Ib8BHYICSWLIEiUokFIJ6xg4lCXjRu/LiLK1tcKSox6NZF6l+KYkXymfnNnDnnzImIoijiL5aU9QT+VKcAWSuXxaDxsYuiKHmWJAkhRGpbxw4QRRGu6zIajfj48SNhGCKEYHNzE8uyUBQllb1MAGzbptvt0m63CcMQAF3XCYKAWq2GLMtI0mLefewAvu/z8OFDXrx4wePHj/F9HyEEu7u7tFotdnd3MU0TXdcXspfJDnz9+pVut8t0OiUIAoQQ7O/vMxwOCYKACxcusLOzQ6lUolAoHGkvEwDHcbBtO3EfgOfPn/Py5UuePn3Kzs4OjUaDZrN58gCEENTrder1Ou/fv0fXdUqlEmtraxiGgaIo1Go1nj17hq7r1Ov1I+1lAmCaJqZpAqAoCoZhcPHiRc6ePQuAqqpMJhNms9kv7R07gCRJrK+vM5lMePLkCYZhsLq6yr1797h27VqSDyRJQtO0X9rLJJH5vo/v+wAEQYDneaiqytLSUuo8cOylRBiG2LaNbdtEUcR4PMZxnMRl0hbHxw4ghKBSqVCpVBBC4Hke/X6f6XSa7EoaZQKwvLxMuVxGkiSCIEhW/+ewuqgyOcRbW1vIsszNmzfp9Xr0+300TUOW5fT2/oc5HikhBOVymUqlwpkzZ1AUhTAMU/t+rEzyQK1Wo9/vc3h4yGg0wnVdxuNxcojTlNWZXGiEEOTzeRqNBqVSiTAM6ff7OI6T+hxkdiPL5/Osra1RrVYBsG2bDx8+pI5EmQEIIVAUBUmSkCSJcrlMtVpNfZAzA4hLBVVVAcjlcqmzMGQIoOs6rVaLc+fOEYYhb9++5dWrVwsVcD8rE4A48rx+/ZputwtAqVTCsqyFr5Kxjj2MhmHIp0+faLfb3L9/H9d1kSSJzc1Nbty4kbjUovpjgCiK6PV6TKdTJpMJBwcHjMfjZLKDwYDBYECn00l+e/fuHd1uF9u2AbAsC13XURQldWvlSICfs2Pcw4k/cfYMwxDHcRiNRvR6Pb5//06v1yOKInzfp9Pp4DgOe3t7iZ1Op5MUb5ZlUavV0HWdXC79es59w/d9PM/Ddd0EwrZthsMhX758wbZt9vf3+fbtG4PBAM/zCIIA3/eT7xh0Npvh+z4/fvxI7B8eHqJpGpcuXeLWrVvcvXuX7e1tNE378x2IL939fp83b94kAJ1Oh+FwyOfPn3Ech3a7jeu6DIfDuYbj91RVRVEUCoUCxWIxuWUVi0WuXLlCq9Vie3sbwzBSH+C5ALPZjAcPHrC3t8ejR48IggDgPwVXGIYLZUxZlqlUKlSrVba2trh+/TobGxsALC0t0Wq1UFUVWZZ/q604F0AIga7raJqG53lJXI4HAjBNk/Pnz88dVNM0isUiy8vL6LqOYRiYpsnKygrNZjO5uOfzeQqFwm9P/EgAy7KwLCsxLkkShUIhCXHNZpM7d+7MHdyyLBqNRtLrjF1o0U7bHwPEMgyD27dvU61WWV1dZWNjA8uygH/9t1arzX0vn8+Tz+cplUqoqvrbXedFNRcgdoHLly+zsrLC+vo6V69eTSrHkyQx7z+yg4ODJBzmcjlyuVyymidNcwH+Jp28JU2pU4CsdQqQtU4BstYpQNb66wH+ATtGKPyykb0EAAAAAElFTkSuQmCC\" y=\"-21.606261\"/>\n   </g>\n   <g id=\"text_6\">\n    <!-- Class: 7 -->\n    <g transform=\"translate(291.042569 16.318125)scale(0.12 -0.12)\">\n     <defs>\n      <path d=\"M 8.203125 72.90625 \nL 55.078125 72.90625 \nL 55.078125 68.703125 \nL 28.609375 0 \nL 18.3125 0 \nL 43.21875 64.59375 \nL 8.203125 64.59375 \nz\n\" id=\"DejaVuSans-55\"/>\n     </defs>\n     <use xlink:href=\"#DejaVuSans-67\"/>\n     <use x=\"69.824219\" xlink:href=\"#DejaVuSans-108\"/>\n     <use x=\"97.607422\" xlink:href=\"#DejaVuSans-97\"/>\n     <use x=\"158.886719\" xlink:href=\"#DejaVuSans-115\"/>\n     <use x=\"210.986328\" xlink:href=\"#DejaVuSans-115\"/>\n     <use x=\"263.085938\" xlink:href=\"#DejaVuSans-58\"/>\n     <use x=\"296.777344\" xlink:href=\"#DejaVuSans-32\"/>\n     <use x=\"328.564453\" xlink:href=\"#DejaVuSans-55\"/>\n    </g>\n   </g>\n  </g>\n  <g id=\"axes_7\">\n   <g clip-path=\"url(#p83757acef3)\">\n    <image height=\"48\" id=\"imagedb39a2c2cc\" transform=\"scale(1 -1)translate(0 -48)\" width=\"48\" x=\"347.674576\" xlink:href=\"data:image/png;base64,\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\" y=\"-21.606261\"/>\n   </g>\n   <g id=\"text_7\">\n    <!-- Class: 3 -->\n    <g transform=\"translate(347.788332 16.318125)scale(0.12 -0.12)\">\n     <use xlink:href=\"#DejaVuSans-67\"/>\n     <use x=\"69.824219\" xlink:href=\"#DejaVuSans-108\"/>\n     <use x=\"97.607422\" xlink:href=\"#DejaVuSans-97\"/>\n     <use x=\"158.886719\" xlink:href=\"#DejaVuSans-115\"/>\n     <use x=\"210.986328\" xlink:href=\"#DejaVuSans-115\"/>\n     <use x=\"263.085938\" xlink:href=\"#DejaVuSans-58\"/>\n     <use x=\"296.777344\" xlink:href=\"#DejaVuSans-32\"/>\n     <use x=\"328.564453\" xlink:href=\"#DejaVuSans-51\"/>\n    </g>\n   </g>\n  </g>\n  <g id=\"axes_8\">\n   <g clip-path=\"url(#p3a01b2c039)\">\n    <image height=\"48\" id=\"image19d746a80b\" transform=\"scale(1 -1)translate(0 -48)\" width=\"48\" x=\"404.420339\" xlink:href=\"data:image/png;base64,\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\" y=\"-21.606261\"/>\n   </g>\n   <g id=\"text_8\">\n    <!-- Class: 2 -->\n    <g transform=\"translate(404.534094 16.318125)scale(0.12 -0.12)\">\n     <use xlink:href=\"#DejaVuSans-67\"/>\n     <use x=\"69.824219\" xlink:href=\"#DejaVuSans-108\"/>\n     <use x=\"97.607422\" xlink:href=\"#DejaVuSans-97\"/>\n     <use x=\"158.886719\" xlink:href=\"#DejaVuSans-115\"/>\n     <use x=\"210.986328\" xlink:href=\"#DejaVuSans-115\"/>\n     <use x=\"263.085938\" xlink:href=\"#DejaVuSans-58\"/>\n     <use x=\"296.777344\" xlink:href=\"#DejaVuSans-32\"/>\n     <use x=\"328.564453\" xlink:href=\"#DejaVuSans-50\"/>\n    </g>\n   </g>\n  </g>\n </g>\n <defs>\n  <clipPath id=\"p9b91892058\">\n   <rect height=\"47.288136\" width=\"47.288136\" x=\"7.2\" y=\"22.318125\"/>\n  </clipPath>\n  <clipPath id=\"p2c65a730b3\">\n   <rect height=\"47.288136\" width=\"47.288136\" x=\"63.945763\" y=\"22.318125\"/>\n  </clipPath>\n  <clipPath id=\"pef70080918\">\n   <rect height=\"47.288136\" width=\"47.288136\" x=\"120.691525\" y=\"22.318125\"/>\n  </clipPath>\n  <clipPath id=\"pea30908e0a\">\n   <rect height=\"47.288136\" width=\"47.288136\" x=\"177.437288\" y=\"22.318125\"/>\n  </clipPath>\n  <clipPath id=\"p38562b5817\">\n   <rect height=\"47.288136\" width=\"47.288136\" x=\"234.183051\" y=\"22.318125\"/>\n  </clipPath>\n  <clipPath id=\"p867f525291\">\n   <rect height=\"47.288136\" width=\"47.288136\" x=\"290.928814\" y=\"22.318125\"/>\n  </clipPath>\n  <clipPath id=\"p83757acef3\">\n   <rect height=\"47.288136\" width=\"47.288136\" x=\"347.674576\" y=\"22.318125\"/>\n  </clipPath>\n  <clipPath id=\"p3a01b2c039\">\n   <rect height=\"47.288136\" width=\"47.288136\" x=\"404.420339\" y=\"22.318125\"/>\n  </clipPath>\n </defs>\n</svg>\n",
      "image/png": "[encoded data removed]"
     },
     "metadata": {
      "needs_background": "light"
     }
    }
   ],
   "source": [
    "plt.figure(figsize=(10,10))\n",
    "for i in range(8):\n",
    "    plt.subplot(1, 10, i+1)\n",
    "    plt.axis('off')\n",
    "    plt.imshow(X_train[i,:,:,:].numpy().reshape(28,28), cmap = 'gray_r')\n",
    "    plt.title('Class: ' + str(y_train[i].item()))"
   ]
  },
  {
   "source": [
    "## 6. MLP(Multi Layer Perceptron) 모델 설계하기"
   ],
   "cell_type": "markdown",
   "metadata": {}
  },
  {
   "cell_type": "code",
   "execution_count": 9,
   "metadata": {},
   "outputs": [],
   "source": [
    "class Net(nn.Module):\n",
    "    def __init__(self):\n",
    "        super(Net, self).__init__()\n",
    "        self.fc1 = nn.Linear(28 * 28, 512)\n",
    "        self.fc2 = nn.Linear(512, 256)\n",
    "        self.fc3 = nn.Linear(256, 10)\n",
    "    \n",
    "    def forward(self, x):\n",
    "        x = x.view(-1, 28 * 28)\n",
    "        x = self.fc1(x)\n",
    "        x = F.sigmoid(x)\n",
    "        x = self.fc2(x)\n",
    "        x = F.sigmoid(x)\n",
    "        x = self.fc3(x)\n",
    "        x = F.log_softmax(x, dim=1)\n",
    "        return x"
   ]
  },
  {
   "source": [
    "## 7. optimizer, Objective Function 설정하기"
   ],
   "cell_type": "markdown",
   "metadata": {}
  },
  {
   "cell_type": "code",
   "execution_count": 12,
   "metadata": {},
   "outputs": [
    {
     "output_type": "stream",
     "name": "stdout",
     "text": [
      "Net(\n  (fc1): Linear(in_features=784, out_features=512, bias=True)\n  (fc2): Linear(in_features=512, out_features=256, bias=True)\n  (fc3): Linear(in_features=256, out_features=10, bias=True)\n)\n"
     ]
    }
   ],
   "source": [
    "model = Net()\n",
    "model.to(device)\n",
    "optimizer = torch.optim.SGD(model.parameters(), lr = 0.01, momentum= 0.9)\n",
    "criterion = nn.CrossEntropyLoss()\n",
    "print(model)"
   ]
  },
  {
   "source": [
    "## 8. MLP 모델 학습을 진행하며 학습 데이터에 대한 모델 성능을 확인하는 함수 정의"
   ],
   "cell_type": "markdown",
   "metadata": {}
  },
  {
   "cell_type": "code",
   "execution_count": 13,
   "metadata": {},
   "outputs": [],
   "source": [
    "def train(model, train_loader, optimizer, log_interval):\n",
    "    model.train()\n",
    "    for batch_idx, (image, label) in enumerate(train_loader):\n",
    "        image = image.to(device)\n",
    "        label = label.to(device)\n",
    "        optimizer.zero_grad()\n",
    "        output = model(image)\n",
    "        loss = criterion(output, label)\n",
    "        loss.backward()\n",
    "        optimizer.step()\n",
    "        if batch_idx % log_interval == 0:\n",
    "            print('Train Epoch: {} [{}/{}({:.0f}%)]\\tTrain Loss: {:.6f}'.format(\n",
    "                Epoch, batch_idx * len(image), \n",
    "                len(train_loader.dataset), 100. * batch_idx / len(train_loader), loss.item()\n",
    "            ))"
   ]
  },
  {
   "source": [
    "## 9. 학습되는 과정 속에서 검증 데이터에 대한 모델 성능을 확인하는 함수 정의"
   ],
   "cell_type": "markdown",
   "metadata": {}
  },
  {
   "cell_type": "code",
   "execution_count": 14,
   "metadata": {},
   "outputs": [],
   "source": [
    "def evaluate(model, test_loader):\n",
    "    model.eval()\n",
    "    test_loss = 0\n",
    "    correct = 0\n",
    "\n",
    "    with torch.no_grad():\n",
    "        for image, label in test_loader:\n",
    "            image = image.to(device)\n",
    "            label = label.to(device)\n",
    "            output = model(image)\n",
    "            test_loss += criterion(output, label).item()\n",
    "            prediction = output.max(1, keepdim = True)[1]\n",
    "            correct += prediction.eq(label.view_as(prediction)).sum().item()\n",
    "    test_loss /= len(test_loader.dataset)\n",
    "    test_accuracy = 100. * correct / len(test_loader.dataset)\n",
    "    return test_loss, test_accuracy"
   ]
  },
  {
   "source": [
    "## 10. mlp 학습을 실행하며 Train, Test set 의 loss 및 Test set accuracy 확인하기"
   ],
   "cell_type": "markdown",
   "metadata": {}
  },
  {
   "cell_type": "code",
   "execution_count": 15,
   "metadata": {},
   "outputs": [
    {
     "output_type": "stream",
     "name": "stdout",
     "text": [
      "Train Epoch: 1 [0/60000(0%)]\tTrain Loss: 2.310533\n",
      "Train Epoch: 1 [1600/60000(3%)]\tTrain Loss: 2.441566\n",
      "Train Epoch: 1 [3200/60000(5%)]\tTrain Loss: 2.243018\n",
      "Train Epoch: 1 [4800/60000(8%)]\tTrain Loss: 2.315877\n",
      "Train Epoch: 1 [6400/60000(11%)]\tTrain Loss: 2.124791\n",
      "Train Epoch: 1 [8000/60000(13%)]\tTrain Loss: 1.955962\n",
      "Train Epoch: 1 [9600/60000(16%)]\tTrain Loss: 1.127036\n",
      "Train Epoch: 1 [11200/60000(19%)]\tTrain Loss: 1.310496\n",
      "Train Epoch: 1 [12800/60000(21%)]\tTrain Loss: 0.702869\n",
      "Train Epoch: 1 [14400/60000(24%)]\tTrain Loss: 0.426129\n",
      "Train Epoch: 1 [16000/60000(27%)]\tTrain Loss: 0.367509\n",
      "Train Epoch: 1 [17600/60000(29%)]\tTrain Loss: 0.738664\n",
      "Train Epoch: 1 [19200/60000(32%)]\tTrain Loss: 0.293368\n",
      "Train Epoch: 1 [20800/60000(35%)]\tTrain Loss: 0.428390\n",
      "Train Epoch: 1 [22400/60000(37%)]\tTrain Loss: 0.214408\n",
      "Train Epoch: 1 [24000/60000(40%)]\tTrain Loss: 0.328750\n",
      "Train Epoch: 1 [25600/60000(43%)]\tTrain Loss: 0.859001\n",
      "Train Epoch: 1 [27200/60000(45%)]\tTrain Loss: 0.716806\n",
      "Train Epoch: 1 [28800/60000(48%)]\tTrain Loss: 0.302075\n",
      "Train Epoch: 1 [30400/60000(51%)]\tTrain Loss: 0.084328\n",
      "Train Epoch: 1 [32000/60000(53%)]\tTrain Loss: 0.739623\n",
      "Train Epoch: 1 [33600/60000(56%)]\tTrain Loss: 0.095554\n",
      "Train Epoch: 1 [35200/60000(59%)]\tTrain Loss: 0.088324\n",
      "Train Epoch: 1 [36800/60000(61%)]\tTrain Loss: 0.106927\n",
      "Train Epoch: 1 [38400/60000(64%)]\tTrain Loss: 0.279968\n",
      "Train Epoch: 1 [40000/60000(67%)]\tTrain Loss: 0.428357\n",
      "Train Epoch: 1 [41600/60000(69%)]\tTrain Loss: 0.226829\n",
      "Train Epoch: 1 [43200/60000(72%)]\tTrain Loss: 0.142242\n",
      "Train Epoch: 1 [44800/60000(75%)]\tTrain Loss: 0.185404\n",
      "Train Epoch: 1 [46400/60000(77%)]\tTrain Loss: 0.717437\n",
      "Train Epoch: 1 [48000/60000(80%)]\tTrain Loss: 0.364412\n",
      "Train Epoch: 1 [49600/60000(83%)]\tTrain Loss: 0.524013\n",
      "Train Epoch: 1 [51200/60000(85%)]\tTrain Loss: 0.011262\n",
      "Train Epoch: 1 [52800/60000(88%)]\tTrain Loss: 0.273031\n",
      "Train Epoch: 1 [54400/60000(91%)]\tTrain Loss: 1.996558\n",
      "Train Epoch: 1 [56000/60000(93%)]\tTrain Loss: 0.138446\n",
      "Train Epoch: 1 [57600/60000(96%)]\tTrain Loss: 0.626444\n",
      "Train Epoch: 1 [59200/60000(99%)]\tTrain Loss: 0.351490\n",
      "\n",
      "[EPOCH: 1], \tTest Loss: 0.0398, \tTest Accuracy: 90.54 \n",
      "\n"
     ]
    }
   ],
   "source": [
    "for Epoch in range(1, epochs + 1):\n",
    "    train(model, train_loader, optimizer, log_interval = 200)\n",
    "    test_loss, test_accuracy = evaluate(model, test_loader)\n",
    "    print(\"\\n[EPOCH: {}], \\tTest Loss: {:.4f}, \\tTest Accuracy: {:.2f} \\n\".format(\n",
    "        Epoch, test_loss, test_accuracy\n",
    "    ))"
   ]
  },
  {
   "cell_type": "code",
   "execution_count": null,
   "metadata": {},
   "outputs": [],
   "source": []
  }
 ]
}